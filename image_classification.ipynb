{
  "cells": [
    {
      "cell_type": "markdown",
      "metadata": {
        "id": "NoygCgn5Csn0"
      },
      "source": [
        "# Binary Image Classification (from Scratch)"
      ]
    },
    {
      "cell_type": "markdown",
      "metadata": {},
      "source": [
        "Orginal File:\n",
        "https://colab.research.google.com/drive/1MkjBqoR1JQQ-Qgnwn0DxWs4GfaZw4Wnd#scrollTo=IdMWbBHej9Oe"
      ]
    },
    {
      "cell_type": "markdown",
      "metadata": {
        "id": "cCaW-9TsIwxM"
      },
      "source": [
        "Custom Functions"
      ]
    },
    {
      "cell_type": "code",
      "execution_count": 7,
      "metadata": {
        "id": "7TGnCfuRDGfV"
      },
      "outputs": [],
      "source": [
        "import numpy as np\n",
        "import pandas as pd\n",
        "import matplotlib.pyplot as plt\n",
        "from sklearn.model_selection import train_test_split\n",
        "from sklearn.preprocessing import StandardScaler\n",
        "from sklearn.metrics import accuracy_score"
      ]
    },
    {
      "cell_type": "code",
      "execution_count": 8,
      "metadata": {
        "id": "ZPublLtOB7Hv"
      },
      "outputs": [],
      "source": [
        "# Predictor\n",
        "\n",
        "def predict(x_array, w_array):\n",
        "  z = np.dot(x_array, w_array)\n",
        "  return 1 / (1 + np.exp(-z))"
      ]
    },
    {
      "cell_type": "code",
      "execution_count": 9,
      "metadata": {
        "id": "jeozm4pTDc5L"
      },
      "outputs": [],
      "source": [
        "# Cost Function\n",
        "\n",
        "def cost_function(x_matrix, y_array, w_array):\n",
        "  predictions = predict(x_matrix, w_array)\n",
        "  predictions = np.clip(predictions, 1e-15, 1 - 1e-15)\n",
        "  errors = - np.log(predictions) * y_array - (1 - y_array) * np.log(1 - predictions)\n",
        "  return np.mean(errors)\n"
      ]
    },
    {
      "cell_type": "code",
      "execution_count": 10,
      "metadata": {
        "id": "jNTW040-FHYN"
      },
      "outputs": [],
      "source": [
        "# Gradient Descent\n",
        "\n",
        "def gradient_descent(x_matrix, y_array, w_array, learning_rate):\n",
        "  predictions = predict(x_matrix, w_array.T)\n",
        "  errors = predictions - y_array\n",
        "  gradients = np.dot(x_matrix.T, errors) / len(y_array)\n",
        "  return w_array - gradients * learning_rate\n"
      ]
    },
    {
      "cell_type": "code",
      "execution_count": 11,
      "metadata": {
        "id": "W54mXbIVGIDt"
      },
      "outputs": [],
      "source": [
        "# Train Function\n",
        "\n",
        "def train(x_matrix, y_array, w_array, learning_rate, epochs, verbose = True, verbose_period = 20):\n",
        "  cost_vals = []\n",
        "  for i in range(epochs):\n",
        "    cost = cost_function(x_matrix, y_array, w_array)\n",
        "    cost_vals.append(cost)\n",
        "    if verbose and i % verbose_period == 0:\n",
        "      print(f\"Epoch : {i}   Cost : {cost}\")\n",
        "    w_array = gradient_descent(x_matrix, y_array, w_array, learning_rate)\n",
        "  return w_array, cost_vals\n"
      ]
    },
    {
      "cell_type": "markdown",
      "metadata": {
        "id": "1I6IuyHbI2EU"
      },
      "source": [
        "Usage on a Dataset"
      ]
    },
    {
      "cell_type": "code",
      "execution_count": 12,
      "metadata": {
        "id": "e2y2_CuAIuE9"
      },
      "outputs": [],
      "source": [
        "# Import Dataset\n",
        "\n",
        "filename = \"data/dataset/mnist_train_small.csv\"\n",
        "df = pd.read_csv(filename)"
      ]
    },
    {
      "cell_type": "code",
      "execution_count": 13,
      "metadata": {
        "id": "M4ZJno8bQkol"
      },
      "outputs": [],
      "source": [
        "true_num = 3\n",
        "\n",
        "true_num_label = 1\n",
        "false_num_label = 0"
      ]
    },
    {
      "cell_type": "code",
      "execution_count": 14,
      "metadata": {
        "id": "6M4qUohcNDNp"
      },
      "outputs": [],
      "source": [
        "# Extracting the data\n",
        "y_array = df.iloc[:, 0].to_numpy()\n",
        "y_array = np.array([true_num_label if true_num == i else false_num_label for i in y_array])\n",
        "x_matrix = df.iloc[:, 1:].to_numpy()"
      ]
    },
    {
      "cell_type": "code",
      "execution_count": 15,
      "metadata": {
        "id": "7qM5a0OAOiDs"
      },
      "outputs": [],
      "source": [
        "# Splitting to train and test groups\n",
        "x_train, x_test, y_train, y_test = train_test_split(x_matrix, y_array, test_size = 0.2, random_state = 42)\n",
        "\n",
        "# Scaling Data\n",
        "scaler = StandardScaler(with_mean = False)\n",
        "x_train = scaler.fit_transform(x_train)\n",
        "x_test = scaler.transform(x_test)"
      ]
    },
    {
      "cell_type": "code",
      "execution_count": 16,
      "metadata": {
        "id": "dMhjcH1XP_Xm"
      },
      "outputs": [],
      "source": [
        "# Initialize weights with small random values\n",
        "w_array = np.random.randn(x_train.shape[1]) * 0.01"
      ]
    },
    {
      "cell_type": "code",
      "execution_count": 17,
      "metadata": {
        "colab": {
          "base_uri": "https://localhost:8080/"
        },
        "id": "hkIoo3E7SAbj",
        "outputId": "84cf2637-e3c3-4108-f4d7-8e9b0713e968"
      },
      "outputs": [
        {
          "name": "stdout",
          "output_type": "stream",
          "text": [
            "Epoch : 0   Cost : 0.7739060032098405\n",
            "Epoch : 300   Cost : 0.1214214144542686\n",
            "Epoch : 600   Cost : 0.10702330169447963\n",
            "Epoch : 900   Cost : 0.10088911434225091\n"
          ]
        }
      ],
      "source": [
        "# Training\n",
        "\n",
        "learning_rate = 0.01\n",
        "epochs = 1000\n",
        "\n",
        "w_array, cost_vals = train(x_train, y_train, w_array, learning_rate, epochs, verbose = True, verbose_period = 300)\n"
      ]
    },
    {
      "cell_type": "code",
      "execution_count": 18,
      "metadata": {
        "colab": {
          "base_uri": "https://localhost:8080/",
          "height": 449
        },
        "id": "Q0XhpizzdCq3",
        "outputId": "8fe982c6-736f-41c6-a7b1-36837f4523a6"
      },
      "outputs": [
        {
          "data": {
            "image/png": "[encoded data removed]",
            "text/plain": [
              "<Figure size 640x480 with 1 Axes>"
            ]
          },
          "metadata": {},
          "output_type": "display_data"
        }
      ],
      "source": [
        "# Plotting Training Data\n",
        "\n",
        "plt.plot([_ for _ in range(len(cost_vals))], cost_vals)\n",
        "plt.xlabel(\"Epoch\")\n",
        "plt.ylabel(\"Cost\")\n",
        "plt.show()"
      ]
    },
    {
      "cell_type": "code",
      "execution_count": 19,
      "metadata": {
        "colab": {
          "base_uri": "https://localhost:8080/"
        },
        "id": "3g0p1KzxeZLI",
        "outputId": "8cf70b12-75b1-4eea-91f7-b72d360a6cfa"
      },
      "outputs": [
        {
          "name": "stdout",
          "output_type": "stream",
          "text": [
            "Accuracy on test set: 97.20%\n"
          ]
        }
      ],
      "source": [
        "# Testing\n",
        "\n",
        "y_predictions = [1 if predict(x_array, w_array) > 0.5 else 0 for x_array in x_test]\n",
        "accuracy = accuracy_score(y_test, y_predictions)\n",
        "\n",
        "print(f\"Accuracy on test set: {accuracy * 100:.2f}%\")"
      ]
    },
    {
      "cell_type": "code",
      "execution_count": 20,
      "metadata": {
        "id": "-bzW_QLBhvG9"
      },
      "outputs": [],
      "source": [
        "# Storing the Model\n",
        "import pickle\n",
        "\n",
        "with open(f'models/model_for_{true_num}', 'wb') as file:\n",
        "    modal_data = {\n",
        "        'scaler':scaler,\n",
        "        'w_array':w_array}\n",
        "    pickle.dump(modal_data, file)"
      ]
    }
  ],
  "metadata": {
    "colab": {
      "provenance": []
    },
    "kernelspec": {
      "display_name": "Python 3",
      "name": "python3"
    },
    "language_info": {
      "codemirror_mode": {
        "name": "ipython",
        "version": 3
      },
      "file_extension": ".py",
      "mimetype": "text/x-python",
      "name": "python",
      "nbconvert_exporter": "python",
      "pygments_lexer": "ipython3",
      "version": "3.12.2"
    }
  },
  "nbformat": 4,
  "nbformat_minor": 0
}
